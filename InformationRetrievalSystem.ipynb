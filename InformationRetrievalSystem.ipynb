{
 "cells": [
  {
   "cell_type": "markdown",
   "id": "b83bea46",
   "metadata": {},
   "source": [
    " Information Retrieval System using Word2Vec Model and vector Space Model"
   ]
  },
  {
   "cell_type": "markdown",
   "id": "fbbfc253",
   "metadata": {},
   "source": [
    "<h4>1. Loading the cran1400 dataset</h4>"
   ]
  },
  {
   "cell_type": "code",
   "execution_count": 1,
   "id": "e921990d",
   "metadata": {},
   "outputs": [
    {
     "name": "stdout",
     "output_type": "stream",
     "text": [
      "Requirement already satisfied: gensim in c:\\python312\\lib\\site-packages (4.3.2)\n",
      "Requirement already satisfied: numpy>=1.18.5 in c:\\python312\\lib\\site-packages (from gensim) (1.26.2)\n",
      "Requirement already satisfied: scipy>=1.7.0 in c:\\python312\\lib\\site-packages (from gensim) (1.11.4)\n",
      "Requirement already satisfied: smart-open>=1.8.1 in c:\\python312\\lib\\site-packages (from gensim) (6.4.0)\n"
     ]
    }
   ],
   "source": [
    "!pip install gensim"
   ]
  },
  {
   "cell_type": "code",
   "execution_count": 2,
   "id": "3448ad62",
   "metadata": {},
   "outputs": [],
   "source": [
    "import gensim\n",
    "import pandas as pd"
   ]
  },
  {
   "cell_type": "code",
   "execution_count": 11,
   "id": "fb0c2b75",
   "metadata": {},
   "outputs": [],
   "source": [
    "df = pd.read_xml(\"cran.all.1400.xml\",xpath='//doc')"
   ]
  },
  {
   "cell_type": "code",
   "execution_count": 12,
   "id": "d593cad5",
   "metadata": {},
   "outputs": [
    {
     "name": "stdout",
     "output_type": "stream",
     "text": [
      "<class 'pandas.core.frame.DataFrame'>\n",
      "RangeIndex: 1400 entries, 0 to 1399\n",
      "Data columns (total 5 columns):\n",
      " #   Column  Non-Null Count  Dtype \n",
      "---  ------  --------------  ----- \n",
      " 0   docno   1400 non-null   int64 \n",
      " 1   title   1398 non-null   object\n",
      " 2   author  1347 non-null   object\n",
      " 3   bib     1330 non-null   object\n",
      " 4   text    1398 non-null   object\n",
      "dtypes: int64(1), object(4)\n",
      "memory usage: 54.8+ KB\n"
     ]
    }
   ],
   "source": [
    "df.info()"
   ]
  },
  {
   "cell_type": "code",
   "execution_count": 13,
   "id": "172031d1",
   "metadata": {},
   "outputs": [
    {
     "data": {
      "text/html": [
       "<div>\n",
       "<style scoped>\n",
       "    .dataframe tbody tr th:only-of-type {\n",
       "        vertical-align: middle;\n",
       "    }\n",
       "\n",
       "    .dataframe tbody tr th {\n",
       "        vertical-align: top;\n",
       "    }\n",
       "\n",
       "    .dataframe thead th {\n",
       "        text-align: right;\n",
       "    }\n",
       "</style>\n",
       "<table border=\"1\" class=\"dataframe\">\n",
       "  <thead>\n",
       "    <tr style=\"text-align: right;\">\n",
       "      <th></th>\n",
       "      <th>docno</th>\n",
       "      <th>title</th>\n",
       "      <th>author</th>\n",
       "      <th>bib</th>\n",
       "      <th>text</th>\n",
       "    </tr>\n",
       "  </thead>\n",
       "  <tbody>\n",
       "    <tr>\n",
       "      <th>0</th>\n",
       "      <td>1</td>\n",
       "      <td>experimental investigation of the aerodynamics...</td>\n",
       "      <td>brenckman,m.</td>\n",
       "      <td>j. ae. scs. 25, 1958, 324.</td>\n",
       "      <td>experimental investigation of the aerodynamics...</td>\n",
       "    </tr>\n",
       "    <tr>\n",
       "      <th>1</th>\n",
       "      <td>2</td>\n",
       "      <td>simple shear flow past a flat plate in an inco...</td>\n",
       "      <td>ting-yili</td>\n",
       "      <td>department of aeronautical engineering, rensse...</td>\n",
       "      <td>simple shear flow past a flat plate in an inco...</td>\n",
       "    </tr>\n",
       "    <tr>\n",
       "      <th>2</th>\n",
       "      <td>3</td>\n",
       "      <td>the boundary layer in simple shear flow past a...</td>\n",
       "      <td>m. b. glauert</td>\n",
       "      <td>department of mathematics, university of manch...</td>\n",
       "      <td>the boundary layer in simple shear flow past a...</td>\n",
       "    </tr>\n",
       "    <tr>\n",
       "      <th>3</th>\n",
       "      <td>4</td>\n",
       "      <td>approximate solutions of the incompressible la...</td>\n",
       "      <td>yen,k.t.</td>\n",
       "      <td>j. ae. scs. 22, 1955, 728.</td>\n",
       "      <td>approximate solutions of the incompressible la...</td>\n",
       "    </tr>\n",
       "    <tr>\n",
       "      <th>4</th>\n",
       "      <td>5</td>\n",
       "      <td>one-dimensional transient heat conduction into...</td>\n",
       "      <td>wasserman,b.</td>\n",
       "      <td>j. ae. scs. 24, 1957, 924.</td>\n",
       "      <td>one-dimensional transient heat conduction into...</td>\n",
       "    </tr>\n",
       "  </tbody>\n",
       "</table>\n",
       "</div>"
      ],
      "text/plain": [
       "   docno                                              title         author  \\\n",
       "0      1  experimental investigation of the aerodynamics...   brenckman,m.   \n",
       "1      2  simple shear flow past a flat plate in an inco...      ting-yili   \n",
       "2      3  the boundary layer in simple shear flow past a...  m. b. glauert   \n",
       "3      4  approximate solutions of the incompressible la...       yen,k.t.   \n",
       "4      5  one-dimensional transient heat conduction into...   wasserman,b.   \n",
       "\n",
       "                                                 bib  \\\n",
       "0                         j. ae. scs. 25, 1958, 324.   \n",
       "1  department of aeronautical engineering, rensse...   \n",
       "2  department of mathematics, university of manch...   \n",
       "3                         j. ae. scs. 22, 1955, 728.   \n",
       "4                         j. ae. scs. 24, 1957, 924.   \n",
       "\n",
       "                                                text  \n",
       "0  experimental investigation of the aerodynamics...  \n",
       "1  simple shear flow past a flat plate in an inco...  \n",
       "2  the boundary layer in simple shear flow past a...  \n",
       "3  approximate solutions of the incompressible la...  \n",
       "4  one-dimensional transient heat conduction into...  "
      ]
     },
     "execution_count": 13,
     "metadata": {},
     "output_type": "execute_result"
    }
   ],
   "source": [
    "df.head()"
   ]
  },
  {
   "cell_type": "markdown",
   "id": "74071a8b",
   "metadata": {},
   "source": [
    "<h4>2. Data preprocessing</h4>"
   ]
  },
  {
   "cell_type": "code",
   "execution_count": 14,
   "id": "eeca44b6",
   "metadata": {},
   "outputs": [
    {
     "name": "stdout",
     "output_type": "stream",
     "text": [
      "<class 'pandas.core.frame.DataFrame'>\n",
      "Int64Index: 1327 entries, 0 to 1399\n",
      "Data columns (total 5 columns):\n",
      " #   Column  Non-Null Count  Dtype \n",
      "---  ------  --------------  ----- \n",
      " 0   docno   1327 non-null   int64 \n",
      " 1   title   1327 non-null   object\n",
      " 2   author  1327 non-null   object\n",
      " 3   bib     1327 non-null   object\n",
      " 4   text    1327 non-null   object\n",
      "dtypes: int64(1), object(4)\n",
      "memory usage: 62.2+ KB\n"
     ]
    }
   ],
   "source": [
    "#Data preprocessing\n",
    "#removing null and duplicate values\n",
    "\n",
    "df.drop_duplicates(['text'], inplace=True)\n",
    "df.dropna(inplace=True)\n",
    "df.info()"
   ]
  },
  {
   "cell_type": "code",
   "execution_count": 15,
   "id": "3403a5fb",
   "metadata": {},
   "outputs": [],
   "source": [
    "#further preprocessing\n",
    "#converting all the words to lower case, trimming spaces, removing punctuations,removing stopwords\n",
    "#This would also TOKENIZE the text data\n",
    "\n",
    "text = df.text.apply(gensim.utils.simple_preprocess)"
   ]
  },
  {
   "cell_type": "code",
   "execution_count": 16,
   "id": "bd3e2529",
   "metadata": {},
   "outputs": [
    {
     "data": {
      "text/plain": [
       "0       [experimental, investigation, of, the, aerodyn...\n",
       "1       [simple, shear, flow, past, flat, plate, in, a...\n",
       "2       [the, boundary, layer, in, simple, shear, flow...\n",
       "3       [approximate, solutions, of, the, incompressib...\n",
       "4       [one, dimensional, transient, heat, conduction...\n",
       "                              ...                        \n",
       "1395    [shear, buckling, of, clamped, and, simply, su...\n",
       "1396    [critical, shear, stress, of, an, infinitely, ...\n",
       "1397    [stability, of, rectangular, plates, under, sh...\n",
       "1398    [buckling, of, transverse, stiffened, plates, ...\n",
       "1399    [the, buckling, shear, stress, of, simply, sup...\n",
       "Name: text, Length: 1327, dtype: object"
      ]
     },
     "execution_count": 16,
     "metadata": {},
     "output_type": "execute_result"
    }
   ],
   "source": [
    "text"
   ]
  },
  {
   "cell_type": "code",
   "execution_count": 17,
   "id": "3b4487e8",
   "metadata": {},
   "outputs": [
    {
     "data": {
      "text/plain": [
       "['experimental',\n",
       " 'investigation',\n",
       " 'of',\n",
       " 'the',\n",
       " 'aerodynamics',\n",
       " 'of',\n",
       " 'wing',\n",
       " 'in',\n",
       " 'slipstream',\n",
       " 'an',\n",
       " 'experimental',\n",
       " 'study',\n",
       " 'of',\n",
       " 'wing',\n",
       " 'in',\n",
       " 'propeller',\n",
       " 'slipstream',\n",
       " 'was',\n",
       " 'made',\n",
       " 'in',\n",
       " 'order',\n",
       " 'to',\n",
       " 'determine',\n",
       " 'the',\n",
       " 'spanwise',\n",
       " 'distribution',\n",
       " 'of',\n",
       " 'the',\n",
       " 'lift',\n",
       " 'increase',\n",
       " 'due',\n",
       " 'to',\n",
       " 'slipstream',\n",
       " 'at',\n",
       " 'different',\n",
       " 'angles',\n",
       " 'of',\n",
       " 'attack',\n",
       " 'of',\n",
       " 'the',\n",
       " 'wing',\n",
       " 'and',\n",
       " 'at',\n",
       " 'different',\n",
       " 'free',\n",
       " 'stream',\n",
       " 'to',\n",
       " 'slipstream',\n",
       " 'velocity',\n",
       " 'ratios',\n",
       " 'the',\n",
       " 'results',\n",
       " 'were',\n",
       " 'intended',\n",
       " 'in',\n",
       " 'part',\n",
       " 'as',\n",
       " 'an',\n",
       " 'evaluation',\n",
       " 'basis',\n",
       " 'for',\n",
       " 'different',\n",
       " 'theoretical',\n",
       " 'treatments',\n",
       " 'of',\n",
       " 'this',\n",
       " 'problem',\n",
       " 'the',\n",
       " 'comparative',\n",
       " 'span',\n",
       " 'loading',\n",
       " 'curves',\n",
       " 'together',\n",
       " 'with',\n",
       " 'supporting',\n",
       " 'evidence',\n",
       " 'showed',\n",
       " 'that',\n",
       " 'substantial',\n",
       " 'part',\n",
       " 'of',\n",
       " 'the',\n",
       " 'lift',\n",
       " 'increment',\n",
       " 'produced',\n",
       " 'by',\n",
       " 'the',\n",
       " 'slipstream',\n",
       " 'was',\n",
       " 'due',\n",
       " 'to',\n",
       " 'destalling',\n",
       " 'or',\n",
       " 'boundary',\n",
       " 'layer',\n",
       " 'control',\n",
       " 'effect',\n",
       " 'the',\n",
       " 'integrated',\n",
       " 'remaining',\n",
       " 'lift',\n",
       " 'increment',\n",
       " 'after',\n",
       " 'subtracting',\n",
       " 'this',\n",
       " 'destalling',\n",
       " 'lift',\n",
       " 'was',\n",
       " 'found',\n",
       " 'to',\n",
       " 'agree',\n",
       " 'well',\n",
       " 'with',\n",
       " 'potential',\n",
       " 'flow',\n",
       " 'theory',\n",
       " 'an',\n",
       " 'empirical',\n",
       " 'evaluation',\n",
       " 'of',\n",
       " 'the',\n",
       " 'destalling',\n",
       " 'effects',\n",
       " 'was',\n",
       " 'made',\n",
       " 'for',\n",
       " 'the',\n",
       " 'specific',\n",
       " 'configuration',\n",
       " 'of',\n",
       " 'the',\n",
       " 'experiment']"
      ]
     },
     "execution_count": 17,
     "metadata": {},
     "output_type": "execute_result"
    }
   ],
   "source": [
    "text.loc[0]\n",
    "# len(text.loc[0])"
   ]
  },
  {
   "cell_type": "markdown",
   "id": "566affd5",
   "metadata": {},
   "source": [
    "<h3>3.  Training the Word2Vec Model for this \"Text\" vocabulary</h3>"
   ]
  },
  {
   "cell_type": "code",
   "execution_count": 18,
   "id": "40a7e18a",
   "metadata": {},
   "outputs": [],
   "source": [
    "#initialize the model\n",
    "\n",
    "model = gensim.models.Word2Vec(\n",
    "    window=10,\n",
    "    min_count=3,\n",
    "    workers=4,\n",
    "    vector_size= 50\n",
    ")"
   ]
  },
  {
   "cell_type": "code",
   "execution_count": 19,
   "id": "a012d0b8",
   "metadata": {},
   "outputs": [],
   "source": [
    "#Build Vocabulary\n",
    "\n",
    "model.build_vocab(text, progress_per=1000)"
   ]
  },
  {
   "cell_type": "code",
   "execution_count": 20,
   "id": "90719c7e",
   "metadata": {},
   "outputs": [
    {
     "data": {
      "text/plain": [
       "(726541, 1025970)"
      ]
     },
     "execution_count": 20,
     "metadata": {},
     "output_type": "execute_result"
    }
   ],
   "source": [
    "#Train the Word2Vec Model\n",
    "\n",
    "model.train(text, total_examples=model.corpus_count, epochs=model.epochs)  #5 epochs"
   ]
  },
  {
   "cell_type": "code",
   "execution_count": 21,
   "id": "11e4d774",
   "metadata": {},
   "outputs": [
    {
     "data": {
      "text/plain": [
       "[('data', 0.9634652733802795),\n",
       " ('theoretical', 0.9372055530548096),\n",
       " ('results', 0.9206819534301758),\n",
       " ('comparison', 0.9140534996986389),\n",
       " ('comparisons', 0.9042792916297913),\n",
       " ('agreement', 0.8890647292137146),\n",
       " ('compared', 0.8767828345298767),\n",
       " ('some', 0.858837366104126),\n",
       " ('good', 0.8488130569458008),\n",
       " ('with', 0.8470890522003174)]"
      ]
     },
     "execution_count": 21,
     "metadata": {},
     "output_type": "execute_result"
    }
   ],
   "source": [
    "model.wv.most_similar(\"experimental\")"
   ]
  },
  {
   "cell_type": "code",
   "execution_count": 22,
   "id": "047f07ce",
   "metadata": {},
   "outputs": [
    {
     "data": {
      "text/plain": [
       "array([ 0.23934369, -0.7252128 , -0.58290356, -0.5528637 ,  0.7490001 ,\n",
       "       -0.26915807,  1.5763988 ,  1.759875  , -1.1525388 , -1.1485881 ,\n",
       "       -0.81376517, -1.6602665 , -0.42590088, -0.03395737, -0.2880086 ,\n",
       "       -0.19477849,  1.1360688 ,  0.86494726, -1.0666451 , -1.8359363 ,\n",
       "       -0.03320959, -0.98527515,  0.5241939 ,  0.7433294 ,  0.2649617 ,\n",
       "       -0.32141587, -2.0356393 ,  0.665682  , -0.9272621 ,  0.99003273,\n",
       "       -0.09443124,  0.33071414,  1.2861125 , -0.9409879 ,  0.9586617 ,\n",
       "       -0.04462381,  1.1148787 , -1.5347735 ,  0.27425146, -0.2685301 ,\n",
       "       -0.58698297,  0.3550569 ,  0.619771  ,  0.7756953 ,  2.6267266 ,\n",
       "       -0.32815835,  0.738016  , -0.63965726, -0.9316468 , -0.71121055],\n",
       "      dtype=float32)"
      ]
     },
     "execution_count": 22,
     "metadata": {},
     "output_type": "execute_result"
    }
   ],
   "source": [
    "#word embedding of experimental\n",
    "model.wv[\"experimental\"]"
   ]
  },
  {
   "cell_type": "markdown",
   "id": "4cd1fb12",
   "metadata": {},
   "source": [
    "<h3>4. Using Word Centroid Similarity (WCS) for comparing docs/text articles to queries<h3>"
   ]
  },
  {
   "cell_type": "code",
   "execution_count": 23,
   "id": "01f0aab0",
   "metadata": {},
   "outputs": [
    {
     "data": {
      "text/html": [
       "<div>\n",
       "<style scoped>\n",
       "    .dataframe tbody tr th:only-of-type {\n",
       "        vertical-align: middle;\n",
       "    }\n",
       "\n",
       "    .dataframe tbody tr th {\n",
       "        vertical-align: top;\n",
       "    }\n",
       "\n",
       "    .dataframe thead th {\n",
       "        text-align: right;\n",
       "    }\n",
       "</style>\n",
       "<table border=\"1\" class=\"dataframe\">\n",
       "  <thead>\n",
       "    <tr style=\"text-align: right;\">\n",
       "      <th></th>\n",
       "      <th>docno</th>\n",
       "      <th>title</th>\n",
       "      <th>author</th>\n",
       "      <th>bib</th>\n",
       "      <th>text</th>\n",
       "      <th>centroid</th>\n",
       "    </tr>\n",
       "  </thead>\n",
       "  <tbody>\n",
       "    <tr>\n",
       "      <th>0</th>\n",
       "      <td>1</td>\n",
       "      <td>experimental investigation of the aerodynamics...</td>\n",
       "      <td>brenckman,m.</td>\n",
       "      <td>j. ae. scs. 25, 1958, 324.</td>\n",
       "      <td>experimental investigation of the aerodynamics...</td>\n",
       "      <td>[0.10740402801567336, -0.11062489738899538, -0...</td>\n",
       "    </tr>\n",
       "    <tr>\n",
       "      <th>1</th>\n",
       "      <td>2</td>\n",
       "      <td>simple shear flow past a flat plate in an inco...</td>\n",
       "      <td>ting-yili</td>\n",
       "      <td>department of aeronautical engineering, rensse...</td>\n",
       "      <td>simple shear flow past a flat plate in an inco...</td>\n",
       "      <td>[-0.3041015500703486, -0.16698943851615794, -0...</td>\n",
       "    </tr>\n",
       "    <tr>\n",
       "      <th>2</th>\n",
       "      <td>3</td>\n",
       "      <td>the boundary layer in simple shear flow past a...</td>\n",
       "      <td>m. b. glauert</td>\n",
       "      <td>department of mathematics, university of manch...</td>\n",
       "      <td>the boundary layer in simple shear flow past a...</td>\n",
       "      <td>[-0.7226809281855822, -0.2572224795197447, -0....</td>\n",
       "    </tr>\n",
       "    <tr>\n",
       "      <th>3</th>\n",
       "      <td>4</td>\n",
       "      <td>approximate solutions of the incompressible la...</td>\n",
       "      <td>yen,k.t.</td>\n",
       "      <td>j. ae. scs. 22, 1955, 728.</td>\n",
       "      <td>approximate solutions of the incompressible la...</td>\n",
       "      <td>[-0.5725004105024958, -0.2571714715585623, -0....</td>\n",
       "    </tr>\n",
       "    <tr>\n",
       "      <th>4</th>\n",
       "      <td>5</td>\n",
       "      <td>one-dimensional transient heat conduction into...</td>\n",
       "      <td>wasserman,b.</td>\n",
       "      <td>j. ae. scs. 24, 1957, 924.</td>\n",
       "      <td>one-dimensional transient heat conduction into...</td>\n",
       "      <td>[0.10923023298382759, -0.6688481829501689, -0....</td>\n",
       "    </tr>\n",
       "  </tbody>\n",
       "</table>\n",
       "</div>"
      ],
      "text/plain": [
       "   docno                                              title         author  \\\n",
       "0      1  experimental investigation of the aerodynamics...   brenckman,m.   \n",
       "1      2  simple shear flow past a flat plate in an inco...      ting-yili   \n",
       "2      3  the boundary layer in simple shear flow past a...  m. b. glauert   \n",
       "3      4  approximate solutions of the incompressible la...       yen,k.t.   \n",
       "4      5  one-dimensional transient heat conduction into...   wasserman,b.   \n",
       "\n",
       "                                                 bib  \\\n",
       "0                         j. ae. scs. 25, 1958, 324.   \n",
       "1  department of aeronautical engineering, rensse...   \n",
       "2  department of mathematics, university of manch...   \n",
       "3                         j. ae. scs. 22, 1955, 728.   \n",
       "4                         j. ae. scs. 24, 1957, 924.   \n",
       "\n",
       "                                                text  \\\n",
       "0  experimental investigation of the aerodynamics...   \n",
       "1  simple shear flow past a flat plate in an inco...   \n",
       "2  the boundary layer in simple shear flow past a...   \n",
       "3  approximate solutions of the incompressible la...   \n",
       "4  one-dimensional transient heat conduction into...   \n",
       "\n",
       "                                            centroid  \n",
       "0  [0.10740402801567336, -0.11062489738899538, -0...  \n",
       "1  [-0.3041015500703486, -0.16698943851615794, -0...  \n",
       "2  [-0.7226809281855822, -0.2572224795197447, -0....  \n",
       "3  [-0.5725004105024958, -0.2571714715585623, -0....  \n",
       "4  [0.10923023298382759, -0.6688481829501689, -0....  "
      ]
     },
     "execution_count": 23,
     "metadata": {},
     "output_type": "execute_result"
    }
   ],
   "source": [
    "#calculate the centeroid for each text article\n",
    "\n",
    "import numpy as np\n",
    "\n",
    "a = [0.0]*50\n",
    "df[\"centroid\"] = [a]*df.shape[0]\n",
    "\n",
    "for index, row in df.iterrows():\n",
    "\n",
    "    centroid = np.array([0.0]*50)\n",
    "    for word in text.loc[index]:\n",
    "#         print(word,end=\" \")\n",
    "        try:\n",
    "            b = model.wv[word]\n",
    "#             print(b,end=\" \")\n",
    "        except:\n",
    "            continue\n",
    "        centroid = np.add(centroid, b)\n",
    "    centroid /= len(text.loc[index])\n",
    "    df.at[index,'centroid'] = centroid.tolist()\n",
    "df.head()"
   ]
  },
  {
   "cell_type": "markdown",
   "id": "06e6ec9c",
   "metadata": {},
   "source": [
    "<h3>5.  Ranking Documents to given Query</h3>"
   ]
  },
  {
   "cell_type": "code",
   "execution_count": 35,
   "id": "5476e517",
   "metadata": {},
   "outputs": [],
   "source": [
    "#This function will compare each text article with given query on basis of cosine simirality \n",
    "#and rank them according to their score\n",
    "\n",
    "#based on word wise similarity of each word of the query\n",
    "def rank_docs1(model, query, df, num=5) :\n",
    "    \n",
    "    cosine_list = []\n",
    "    \n",
    "    a = []\n",
    "    query = query.split(\" \")\n",
    "    for q in query:\n",
    "        try:\n",
    "            a.append(model.wv[q])\n",
    "        except:\n",
    "            continue\n",
    "    \n",
    "    for index, row in df.iterrows():\n",
    "        centroid = row['centroid']\n",
    "        total_sim = 0\n",
    "        for a_i in a:\n",
    "            if np.linalg.norm(a_i) == 0 or np.linalg.norm(centroid) == 0:\n",
    "                cos_sim = 0 \n",
    "            else:\n",
    "                cos_sim = np.dot(a_i, centroid)/(np.linalg.norm(a_i)*np.linalg.norm(centroid))\n",
    "            total_sim += cos_sim\n",
    "        cosine_list.append((row['docno'],row['title'],total_sim)) \n",
    "    cosine_list.sort(key=lambda x:x[2], reverse=True)  \n",
    "     \n",
    "    text_list = []\n",
    "    for item in cosine_list[:num]:\n",
    "        text_list.append((item[0], item[1], item[2]))\n",
    "    return text_list"
   ]
  },
  {
   "cell_type": "code",
   "execution_count": 40,
   "id": "94cd4d31",
   "metadata": {},
   "outputs": [],
   "source": [
    "#based on content similarity of the query with that of document i.e comparing centroids of both\n",
    "\n",
    "def rank_docs2(model, query, df, num=5) :\n",
    "    #[(docno.,title,cosine_sim)]\n",
    "    cosine_list = []\n",
    "    \n",
    "    a = []\n",
    "    query = query.split(\" \")\n",
    "    for q in query:\n",
    "        try:\n",
    "            a.append(model.wv[q])\n",
    "        except:\n",
    "            continue\n",
    "    \n",
    "    #compute centroid of query\n",
    "    query_centroid = np.array([0.0]*50)\n",
    "    for b in a:\n",
    "        query_centroid = np.add(query_centroid, b)\n",
    "    query_centroid /= len(a)\n",
    "    \n",
    "    \n",
    "    for index, row in df.iterrows():\n",
    "        centroid = row['centroid']\n",
    "        cos_sim = 0\n",
    "        \n",
    "        if np.linalg.norm(query_centroid) == 0 or np.linalg.norm(centroid) == 0:\n",
    "            cos_sim = 0 \n",
    "        else:\n",
    "            cos_sim = np.dot(query_centroid, centroid)/(np.linalg.norm(query_centroid)*np.linalg.norm(centroid))\n",
    "            \n",
    "        cosine_list.append((row['docno'],row['title'],cos_sim)) \n",
    "    \n",
    "    \n",
    "    cosine_list.sort(key=lambda x:x[2], reverse=True)  \n",
    "     \n",
    "    text_list = []\n",
    "    for item in cosine_list[:num]:\n",
    "        text_list.append((item[0], item[1], item[2]))\n",
    "    return text_list"
   ]
  },
  {
   "cell_type": "code",
   "execution_count": 41,
   "id": "014a682f",
   "metadata": {},
   "outputs": [],
   "source": [
    "#Loading Query dataset\n",
    "df_query = pd.read_xml(\"cran.qry.xml\")"
   ]
  },
  {
   "cell_type": "code",
   "execution_count": 42,
   "id": "447cab29",
   "metadata": {},
   "outputs": [
    {
     "data": {
      "text/html": [
       "<div>\n",
       "<style scoped>\n",
       "    .dataframe tbody tr th:only-of-type {\n",
       "        vertical-align: middle;\n",
       "    }\n",
       "\n",
       "    .dataframe tbody tr th {\n",
       "        vertical-align: top;\n",
       "    }\n",
       "\n",
       "    .dataframe thead th {\n",
       "        text-align: right;\n",
       "    }\n",
       "</style>\n",
       "<table border=\"1\" class=\"dataframe\">\n",
       "  <thead>\n",
       "    <tr style=\"text-align: right;\">\n",
       "      <th></th>\n",
       "      <th>num</th>\n",
       "      <th>title</th>\n",
       "    </tr>\n",
       "  </thead>\n",
       "  <tbody>\n",
       "    <tr>\n",
       "      <th>0</th>\n",
       "      <td>1</td>\n",
       "      <td>what similarity laws must be obeyed when const...</td>\n",
       "    </tr>\n",
       "    <tr>\n",
       "      <th>1</th>\n",
       "      <td>2</td>\n",
       "      <td>what are the structural and aeroelastic proble...</td>\n",
       "    </tr>\n",
       "    <tr>\n",
       "      <th>2</th>\n",
       "      <td>4</td>\n",
       "      <td>what problems of heat conduction in composite ...</td>\n",
       "    </tr>\n",
       "    <tr>\n",
       "      <th>3</th>\n",
       "      <td>8</td>\n",
       "      <td>can a criterion be developed to show empirical...</td>\n",
       "    </tr>\n",
       "    <tr>\n",
       "      <th>4</th>\n",
       "      <td>9</td>\n",
       "      <td>what chemical kinetic system is applicable to ...</td>\n",
       "    </tr>\n",
       "  </tbody>\n",
       "</table>\n",
       "</div>"
      ],
      "text/plain": [
       "   num                                              title\n",
       "0    1  what similarity laws must be obeyed when const...\n",
       "1    2  what are the structural and aeroelastic proble...\n",
       "2    4  what problems of heat conduction in composite ...\n",
       "3    8  can a criterion be developed to show empirical...\n",
       "4    9  what chemical kinetic system is applicable to ..."
      ]
     },
     "execution_count": 42,
     "metadata": {},
     "output_type": "execute_result"
    }
   ],
   "source": [
    "df_query.head()"
   ]
  },
  {
   "cell_type": "code",
   "execution_count": 43,
   "id": "e94d8f71",
   "metadata": {},
   "outputs": [
    {
     "data": {
      "text/plain": [
       "'what similarity laws must be obeyed when constructing aeroelastic models\\nof heated high speed aircraft .'"
      ]
     },
     "execution_count": 43,
     "metadata": {},
     "output_type": "execute_result"
    }
   ],
   "source": [
    "df_query.loc[0]['title']"
   ]
  },
  {
   "cell_type": "code",
   "execution_count": 45,
   "id": "1f8fb15e",
   "metadata": {},
   "outputs": [
    {
     "name": "stdout",
     "output_type": "stream",
     "text": [
      "-----------------------------------------------------------------------------------------------\n",
      "query:  what similarity laws must be obeyed when constructing aeroelastic models\n",
      "of heated high speed aircraft .\n",
      "-----------------------------------------------------------------------------------------------\n",
      "Result by function 1 i.e Word wise similartiy\n",
      "(42, 'the gyroscopic effect of a rigid rotating propeller\\non engine and wing vibration modes .', 10.088365312702471)\n",
      "(834, 'limit design for economical missile structures .', 10.057714569316756)\n",
      "(718, 'means and examples of aeronautical research in france at onera .', 10.05473679065516)\n",
      "(768, 'formulae for use with the fatigue load meter in the\\nassessment of wing fatigue life .', 10.045988215839664)\n",
      "(640, 'the design of structures to resist jet noise fatigue .', 10.037618678627108)\n",
      "Result\n",
      "(1380, 'the problem of obtaining high lift-drag ratios at supersonic speeds .', 0.9757695832420161)\n",
      "(811, 'an investigation of lifting effects on the intensity\\nof sonic booms .', 0.9702835898194568)\n",
      "(909, 'the effect of jet noise on aircraft structures .', 0.9701962500581093)\n",
      "(874, 'the use of models for the determination of critical flutter speeds .', 0.9695928232584554)\n",
      "(876, 'on flutter testing in high speed wind tunnels .', 0.9686509452744942)\n",
      "\n",
      "\n",
      "-----------------------------------------------------------------------------------------------\n",
      "query:  what are the structural and aeroelastic problems associated with flight\n",
      "of high speed aircraft .\n",
      "-----------------------------------------------------------------------------------------------\n",
      "Result by function 1 i.e Word wise similartiy\n",
      "(1331, 'calculated responses of a large sweptwing airplane\\nto continuous turbulence with flight-test comparisons .', 9.850078304104954)\n",
      "(1334, 'calculated spanwise lift distributions and aerodynamic\\ninfluence coefficients for swept wings in subsonic\\nflow .', 9.845442791498723)\n",
      "(782, 'calculated subsonic span loads and resulting stability derivatives of\\nunswept and 45degree sweptback tail surfaces in sideslip and steady roll .', 9.845351627198946)\n",
      "(790, 'a wind-tunnel test technique for measuring the dynamic rotary\\nstability derivatives at subsonic and supersonic speeds .', 9.837035912977814)\n",
      "(52, 'procedure for calculating flutter at high supersonic\\nspeed including camber deflections, and comparison\\nwith experimental results .', 9.830863862548187)\n",
      "Result\n",
      "(1331, 'calculated responses of a large sweptwing airplane\\nto continuous turbulence with flight-test comparisons .', 0.9903646276932517)\n",
      "(1332, 'calculated spanwise lift distributions, influence functions\\nand influence coefficients for unswept wings in subsonic\\nflow .', 0.9894339293585025)\n",
      "(1334, 'calculated spanwise lift distributions and aerodynamic\\ninfluence coefficients for swept wings in subsonic\\nflow .', 0.9886170701951158)\n",
      "(782, 'calculated subsonic span loads and resulting stability derivatives of\\nunswept and 45degree sweptback tail surfaces in sideslip and steady roll .', 0.9874628030618425)\n",
      "(772, 'an experimental study of jet-flap compressor blades .', 0.9868311203613732)\n",
      "\n",
      "\n",
      "-----------------------------------------------------------------------------------------------\n",
      "query:  what problems of heat conduction in composite slabs have been solved so\n",
      "far .\n",
      "-----------------------------------------------------------------------------------------------\n",
      "Result by function 1 i.e Word wise similartiy\n",
      "(181, 'some problems on heat conduction in stratiform bodies .', 8.024248706852415)\n",
      "(1148, 'knudsen flow through a circular capillary .', 7.965930727325852)\n",
      "(270, 'on combined free and forced convection laminar magnetohydrodynamic\\nflow and heat transfer in channels with transverse\\nmagnetic field .', 7.861274725231169)\n",
      "(586, 'an approximate treatment of unsteady heat conduction\\nin semi-infinite solids with variable thermal properties .', 7.859502861015876)\n",
      "(378, 'engineering relations for friction and heat transfer to surfaces in high\\n velocity flow .', 7.830055011391407)\n",
      "Result\n",
      "(378, 'engineering relations for friction and heat transfer to surfaces in high\\n velocity flow .', 0.8936648150185025)\n",
      "(1287, 'progress report on an experiment on the effect of surface\\nflexibility on the stability of laminar flow .', 0.8932961439989893)\n",
      "(374, 'an investigation of optimum zoom climb techniques .', 0.891872546890292)\n",
      "(1148, 'knudsen flow through a circular capillary .', 0.8896118791384291)\n",
      "(181, 'some problems on heat conduction in stratiform bodies .', 0.8892711990685649)\n",
      "\n",
      "\n",
      "-----------------------------------------------------------------------------------------------\n",
      "query:  can a criterion be developed to show empirically the validity of flow\n",
      "solutions for chemically reacting gas mixtures based on the simplifying\n",
      "assumption of instantaneous local chemical equilibrium .\n",
      "-----------------------------------------------------------------------------------------------\n",
      "Result by function 1 i.e Word wise similartiy\n",
      "(1295, 'recent advances in nonequilibrium dissociating gasdynamics .', 18.49760283155574)\n",
      "(937, 'on the buckling of truncated conical shells in torsion .', 18.474262003810047)\n",
      "(1207, 'supersonic airfoil performance with small heat addition .', 18.46908844306691)\n",
      "(448, 'induction drag on a large negatively charged satellite\\nmoving in a magnetic-field-free ionosphere .', 18.46220423125484)\n",
      "(618, 'orbit decay and prediction of the motion of artificial satellites .', 18.45497153354178)\n",
      "Result\n",
      "(890, \"comments on 'thermal buckling of clamped cylindrical shells' .\", 0.9965678944292877)\n",
      "(13, 'similarity laws for stressing heated wings .', 0.9944801234317345)\n",
      "(506, \"a note on havelock's shallow-water wave-resistance\\ncurves .\", 0.994384511797902)\n",
      "(596, 'the properties of crossed flexure pivots, and the influence of the\\npoint at which the strips cross .', 0.9942316899107569)\n",
      "(1242, 'some considerations on the laminar stability of time-dependent basic\\nflows .', 0.9941651465475522)\n",
      "\n",
      "\n",
      "-----------------------------------------------------------------------------------------------\n",
      "query:  what chemical kinetic system is applicable to hypersonic aerodynamic\n",
      "problems .\n",
      "-----------------------------------------------------------------------------------------------\n",
      "Result by function 1 i.e Word wise similartiy\n",
      "(130, 'the behaviour of non-linear systems .', 6.841208391347607)\n",
      "(266, 'exact solution of the neumann problem . calculation\\nfor non- circulatory plane and axially symmetric flows\\nabout or within arbitrary boundaries .', 6.837077840755646)\n",
      "(822, 'effects of imperfections on buckling of thin cylinders\\nand columns under axial compression .', 6.83422059859871)\n",
      "(499, 'a closed-form solution for the oscillations of a vehicle\\nentering a planetary atmosphere .', 6.832936130700278)\n",
      "(742, 'post-buckling behaviour of axially compressed circular\\ncylinder shells .', 6.8287576725119346)\n",
      "Result\n",
      "(266, 'exact solution of the neumann problem . calculation\\nfor non- circulatory plane and axially symmetric flows\\nabout or within arbitrary boundaries .', 0.9902642721757111)\n",
      "(506, \"a note on havelock's shallow-water wave-resistance\\ncurves .\", 0.9861398384462441)\n",
      "(1242, 'some considerations on the laminar stability of time-dependent basic\\nflows .', 0.985900483614504)\n",
      "(1110, 'on supersonic flow past a slightly yawing cone .', 0.9855621423356616)\n",
      "(575, 'atomic recombination in a hypersonic wind tunnel nozzle .', 0.9854908471593196)\n",
      "\n",
      "\n"
     ]
    }
   ],
   "source": [
    "for query in df_query[0:5]['title']:\n",
    "    result_list1=rank_docs1(model, query, df)\n",
    "    result_list2=rank_docs2(model, query, df)\n",
    "    print(\"-----------------------------------------------------------------------------------------------\")\n",
    "    print(\"query: \",query)\n",
    "    print(\"-----------------------------------------------------------------------------------------------\")\n",
    "    print(\"Result by function 1 i.e Word wise similartiy\")\n",
    "    for i in range(5):\n",
    "        print(result_list1[i])\n",
    "\n",
    "    print(\"Result\")\n",
    "    for i in range(5):\n",
    "        print(result_list2[i])\n",
    "    print()\n",
    "    print()\n",
    "    \n",
    "        "
   ]
  },
  {
   "cell_type": "code",
   "execution_count": 46,
   "id": "11b7e355",
   "metadata": {},
   "outputs": [],
   "source": [
    "#saving the model and dataset\n",
    "model.save(\"./model.model\")\n",
    "df.to_pickle(\"./df.pkl\")"
   ]
  },
  {
   "cell_type": "code",
   "execution_count": null,
   "id": "46961b1e",
   "metadata": {},
   "outputs": [],
   "source": []
  }
 ],
 "metadata": {
  "kernelspec": {
   "display_name": "Python 3 (ipykernel)",
   "language": "python",
   "name": "python3"
  },
  "language_info": {
   "codemirror_mode": {
    "name": "ipython",
    "version": 3
   },
   "file_extension": ".py",
   "mimetype": "text/x-python",
   "name": "python",
   "nbconvert_exporter": "python",
   "pygments_lexer": "ipython3",
   "version": "3.12.6"
  }
 },
 "nbformat": 4,
 "nbformat_minor": 5
}
